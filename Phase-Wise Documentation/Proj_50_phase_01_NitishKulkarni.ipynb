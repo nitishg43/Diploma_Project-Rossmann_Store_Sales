{
  "cells": [
    {
      "cell_type": "markdown",
      "source": [
        " The following function RMSPE calculates the Root Mean Square Percentage error between two values."
      ],
      "metadata": {
        "id": "AOu-qn5uqg4w"
      }
    },
    {
      "cell_type": "code",
      "source": [
        "import numpy as np\n",
        "def RMSPE(y_actual, y_pred):\n",
        "  '''\n",
        "    Calculate Root Mean Square Percentage Error between two values.\n",
        "  '''\n",
        "  miniscule_value =  1e-10\n",
        "  if y_actual==0:\n",
        "    rmspe = (np.sqrt(np.mean(np.square((y_actual - y_pred) / (y_actual + miniscule_value))))) * 100\n",
        "    return print( \"Entered actual value is zero!.Root Mean Square Percentage Error is :\", rmspe, \"%\")\n",
        "  else:\n",
        "    rmspe = (np.sqrt(np.mean(np.square((y_actual - y_pred) / y_actual)))) * 100\n",
        "    return print( \"Root Mean Square Percentage Error is :\", rmspe , \"%\")\n",
        "  \n",
        "\n",
        "  \n",
        "  \n",
        "\t\n",
        "\t\t\n",
        "\t\n",
        "\t\t\n",
        "\n",
        "\t"
      ],
      "metadata": {
        "id": "e_IiP-vHqcx6"
      },
      "execution_count": 20,
      "outputs": []
    },
    {
      "cell_type": "code",
      "source": [
        "#RMSPE(100,101)\n",
        "#RMSPE(100,105)\n",
        "#RMSPE(0,0.1)\n",
        "#RMSPE(200,202)"
      ],
      "metadata": {
        "id": "-oWfTsRlrrzR",
        "outputId": "0de8aece-6bc6-4b3a-e647-1d9e0d683679",
        "colab": {
          "base_uri": "https://localhost:8080/"
        }
      },
      "execution_count": 24,
      "outputs": [
        {
          "output_type": "stream",
          "name": "stdout",
          "text": [
            "Root Mean Square Percentage Error is : 1.0 %\n"
          ]
        }
      ]
    }
  ],
  "metadata": {
    "colab": {
      "collapsed_sections": [],
      "name": "Welcome To Colaboratory",
      "toc_visible": true,
      "provenance": []
    },
    "kernelspec": {
      "display_name": "Python 3",
      "name": "python3"
    }
  },
  "nbformat": 4,
  "nbformat_minor": 0
}